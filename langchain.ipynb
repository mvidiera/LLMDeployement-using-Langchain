{
 "cells": [
  {
   "cell_type": "code",
   "execution_count": null,
   "metadata": {},
   "outputs": [
    {
     "ename": "",
     "evalue": "",
     "output_type": "error",
     "traceback": [
      "\u001b[1;31mFailed to start the Kernel. \n",
      "\u001b[1;31mUnable to start Kernel 'base (Python 3.7.1)' due to a connection timeout. \n",
      "\u001b[1;31mView Jupyter <a href='command:jupyter.viewOutput'>log</a> for further details."
     ]
    }
   ],
   "source": [
    "from langchain.llms import OpenAI\n"
   ]
  },
  {
   "cell_type": "code",
   "execution_count": null,
   "metadata": {},
   "outputs": [],
   "source": [
    "import os\n",
    "os.environ[\"OPEN_API_KEY\"] = \" \" #importing api key"
   ]
  },
  {
   "cell_type": "code",
   "execution_count": null,
   "metadata": {},
   "outputs": [],
   "source": [
    "#creating LLM model\n",
    "#llm=OpenAI(temperature= 0.7) #tuning and check the results\n",
    "# error: please mention openai key, hence passing openapi key as param\n",
    "\n",
    "llm=OpenAI(openai_api_key== os.environ[\"OPEN_API_KEY\"],temperature= 0.7)\n"
   ]
  },
  {
   "cell_type": "code",
   "execution_count": null,
   "metadata": {},
   "outputs": [],
   "source": [
    "text+ \"What is the capital of Karnataka?\"\n",
    "print(llm.predict(text))\n"
   ]
  },
  {
   "cell_type": "code",
   "execution_count": null,
   "metadata": {},
   "outputs": [],
   "source": [
    "# https://platform.openai.com/docs/models/overview, by default gpt 3.5 turbo is called in model. \n",
    "\n",
    "\n",
    "\n"
   ]
  },
  {
   "cell_type": "code",
   "execution_count": null,
   "metadata": {},
   "outputs": [],
   "source": [
    "os.environ[\"HUGGINGFACEHUB_API_TOKEN\"]=\" \"\n",
    "# create api in huggingface site and paste token here"
   ]
  },
  {
   "cell_type": "code",
   "execution_count": null,
   "metadata": {},
   "outputs": [],
   "source": [
    "from langchain import HuugingFaceHub"
   ]
  },
  {
   "cell_type": "code",
   "execution_count": null,
   "metadata": {},
   "outputs": [],
   "source": [
    "#repo ID: huggingface's unique repository ID. In my profile, it will be mentioned google/flan------\n",
    "llm_huggingface= HuggingFaceHub(repo_id=\"google/flan-t5-large\", model_kwags={\"temperature\": 0, \"max_length\": 64})\n",
    "#max string length= 64\n"
   ]
  },
  {
   "cell_type": "code",
   "execution_count": null,
   "metadata": {},
   "outputs": [],
   "source": [
    "output=llm_huggingface.oredict(\"Can you tell me the capital of Italy?\")\n",
    "print(output)\n",
    "\n",
    "#here the output is straight forwardlike Rome as output. (HUgginface's opensource OP)\n",
    "# langchain used to print o/p like: Capital of Italy is Rome"
   ]
  },
  {
   "cell_type": "code",
   "execution_count": null,
   "metadata": {},
   "outputs": [],
   "source": [
    "output=llm_huggingface.oredict(\"Can you write a peom about puppies?\")\n",
    "print(output)\n"
   ]
  },
  {
   "cell_type": "code",
   "execution_count": null,
   "metadata": {},
   "outputs": [],
   "source": [
    "#checking the same question in langchain\n",
    "llm.predict(\"Can you write a peom about puppies?\")\n"
   ]
  },
  {
   "cell_type": "markdown",
   "metadata": {},
   "source": [
    "### PROMPT TEMPLATE"
   ]
  },
  {
   "cell_type": "code",
   "execution_count": null,
   "metadata": {},
   "outputs": [],
   "source": [
    "from langchain.prompts import PromptTemplate\n",
    "#prompt template suggests my model what kind of ip it can expect and also what kind of op it will give\n",
    "\n",
    "#defiing prompt template: define ip variables, \n",
    "\n",
    "prompt_template= PromptTemplate(input_variables= ['country'],\n",
    "                template= \"Tell me the capital of this {country}\", #when I pass ip, it will be replaced in this sentence\n",
    "                )\n",
    "\n",
    "#ex: openai understands that the country variable is dynamic and provided during run time.\n",
    "# When I pass input_variable= Turkey, openai first translates into, \"tell me the capital of Turkey\"\n",
    "\n",
    "\n",
    "prompt_template.format(country=\"Turkey\") "
   ]
  },
  {
   "cell_type": "code",
   "execution_count": null,
   "metadata": {},
   "outputs": [],
   "source": [
    "#predict\n",
    "#llm.predict(prompt_template= prompt_template) error: text is missing (text arg is missing, passing text)\n",
    "#llm.predict(prompt_template= prompt_template, text= [\"Turkey\"]) \n",
    "# error: expected string. to run llm, use generate instead \n",
    "\n",
    "#Hence these are not right way to call prompt template. \n",
    "\n",
    "# TO CALL PROMPT, I NEED TO USE CHAIN, WHICH COMBINES MULTIPLE PROMPT AND THEN PREDICTION BE DONE\n",
    "\n",
    "\n"
   ]
  },
  {
   "cell_type": "code",
   "execution_count": null,
   "metadata": {},
   "outputs": [],
   "source": [
    "from langchain.chains import LLMChain\n",
    "\n",
    "#creating chain\n",
    "chain=LLMChain(llm=llm, prompt= prompt_template)\n",
    "\n"
   ]
  },
  {
   "cell_type": "code",
   "execution_count": null,
   "metadata": {},
   "outputs": [],
   "source": [
    "#running chain\n",
    "\n",
    "chain.run(\"Turkey\")\n",
    "\n"
   ]
  },
  {
   "cell_type": "markdown",
   "metadata": {},
   "source": [
    "## Combining multiple chain using Simple Sequential Chain"
   ]
  },
  {
   "cell_type": "code",
   "execution_count": null,
   "metadata": {},
   "outputs": [],
   "source": [
    "capital_prompt=prompt_template(input_variables= [\"country\"],\n",
    "                                 template= \"Please tell me the capital of {country}\")\n",
    "\n",
    "#creating chain\n",
    "\n",
    "# capital_chain= LLMChain(llm=llm, prompt_template= capital_prompt) error\n",
    "\n",
    "capital_chain= LLMChain(llm=llm, prompt= capital_prompt) # argument in LLMChain() should be prompt, not prompt_template\n",
    "\n",
    "#creating another prompt template\n",
    "\n",
    "restaurant_template= PromptTemplate(input_variable= ['capital'], \n",
    "                                template= \"Suggest me great restaurants in {capital}\")\n",
    "\n",
    "\n"
   ]
  },
  {
   "cell_type": "code",
   "execution_count": null,
   "metadata": {},
   "outputs": [],
   "source": [
    "#creating another chain for famous restautant template\n",
    "\n",
    "restaurant_chain= LLMChain( llm=llm, prompt= restaurant_template)\n",
    "\n"
   ]
  },
  {
   "cell_type": "markdown",
   "metadata": {},
   "source": [
    "Input 1-> chain 1: get the ouput from chain 1-> pass op from C1 to next chain. This will be cofusing to my model\n",
    "Hence, using sequence so that model understands the sequence of IP1, OP1, OP2 and so on.\n",
    "Example: Input 1: Turkey. OP1: Ankara. Ankara is passed to chain 2 and OP2 will be Trilye Restaurant which is famous restaurant of Turkey's capital "
   ]
  },
  {
   "cell_type": "code",
   "execution_count": null,
   "metadata": {},
   "outputs": [],
   "source": [
    "from langchain.chains import SimpleSequenceChain\n",
    "chain= SequentialChain(chains= [capital_chain, restaurant_chain],\n",
    "                     input_variable= ['country'],\n",
    "                       ouput_variable=['capital', \"places\"]  )"
   ]
  },
  {
   "cell_type": "code",
   "execution_count": null,
   "metadata": {},
   "outputs": [],
   "source": [
    "# to run chain: pass the input variables in key value chain: my input be country: Turkey \n",
    "\n",
    "# \n",
    "\n",
    "chain({'country': 'Turkey'})"
   ]
  },
  {
   "cell_type": "markdown",
   "metadata": {},
   "source": [
    "### Chat models with ChatOpenAI\n",
    "\n",
    "- 3 schemas\n",
    "- Human Message: When convo happens, ip be provided by human. \n",
    "- system message: If deafult message shows up like related to domain: A message from bot saying: Hey how may I help you with billing? \n",
    "- AI message: schema which gives the output by AI using the model \n"
   ]
  },
  {
   "cell_type": "code",
   "execution_count": null,
   "metadata": {},
   "outputs": [],
   "source": [
    "from langchain.chat_models import ChatOpenAI\n",
    "\n",
    "#schemas\n",
    "\n",
    "from langchain.schema import HumanMessage, SystemMessage, AIMessage\n"
   ]
  },
  {
   "cell_type": "code",
   "execution_count": null,
   "metadata": {},
   "outputs": [],
   "source": [
    "chatllm= ChatOpenAI(openai_api_key= os.environ[\"OPEN_API_KEY\"], temperature= 0.6, model= 'gpt-3.5-turbo')\n",
    "\n",
    "\n"
   ]
  },
  {
   "cell_type": "code",
   "execution_count": null,
   "metadata": {},
   "outputs": [],
   "source": [
    "chatllm"
   ]
  },
  {
   "cell_type": "code",
   "execution_count": null,
   "metadata": {},
   "outputs": [],
   "source": [
    "chatllm([\n",
    "    SystemMessage(content= \"You're a comedian AI assistant\"),# Im telling chatbot to behave like, instructing chatbot\n",
    "    HumanMessage(content= \"Please get me some comedy punchlines on AI \") # this is input\n",
    "])\n",
    "\n",
    "# call chatllm passing 2 arguments SYstem and Human message. when I execut this, I will get output which is \n",
    "#nothing but AIMessage "
   ]
  },
  {
   "cell_type": "markdown",
   "metadata": {},
   "source": [
    "### Prompt Template + LLM + Output parser"
   ]
  },
  {
   "cell_type": "code",
   "execution_count": null,
   "metadata": {},
   "outputs": [],
   "source": [
    "from langchain.chat_models import ChatOpenAI\n",
    "from langchain.prompts.chat import ChatPromptTemplate\n",
    "\n",
    "# to use output parser\n",
    "from langchain.schema import BaseOutputParser\n"
   ]
  },
  {
   "cell_type": "code",
   "execution_count": null,
   "metadata": {},
   "outputs": [],
   "source": [
    "#definfing output parser in form of class. create class called Commaseperatedoutput which inherits from BaseOutputParser\n",
    "\n",
    "class Commaseperatedoutput(BaseOutputParser):\n",
    "    def parse(self, text: str):\n",
    "        return text.strip().split(\",\")"
   ]
  },
  {
   "cell_type": "code",
   "execution_count": null,
   "metadata": {},
   "outputs": [],
   "source": [
    "template= \"You're a helpful assisstant.When a user give any input, you should generate 5 words sysnonyms with comma separator\" \n",
    "#this is system template\n",
    "\n",
    "\n",
    "human_template= \"{text}\"\n",
    "\n",
    "chatprompt= ChatPromptTemplate.from_messages([\n",
    "    (\"system\", template),\n",
    "    (\"human\", human_template)\n",
    "])"
   ]
  },
  {
   "cell_type": "code",
   "execution_count": null,
   "metadata": {},
   "outputs": [],
   "source": [
    "# combining using chain\n",
    "\n",
    "chain= chatprompt|chatllm|Commaseperatedoutput\n",
    "# chain chatprompt and model chatllm, at last OP parser"
   ]
  },
  {
   "cell_type": "code",
   "execution_count": null,
   "metadata": {},
   "outputs": [],
   "source": [
    "chain.invoke({\"text\":\"intelligent\"}) # chain is always invoked in key value pair\n"
   ]
  },
  {
   "attachments": {
    "image.png": {
     "image/png": "[encoded data removed]"
    }
   },
   "cell_type": "markdown",
   "metadata": {},
   "source": [
    "![image.png](attachment:image.png)"
   ]
  },
  {
   "cell_type": "code",
   "execution_count": null,
   "metadata": {},
   "outputs": [],
   "source": []
  }
 ],
 "metadata": {
  "kernelspec": {
   "display_name": "Python 3",
   "language": "python",
   "name": "python3"
  },
  "language_info": {
   "name": "python",
   "version": "3.7.1"
  }
 },
 "nbformat": 4,
 "nbformat_minor": 2
}
